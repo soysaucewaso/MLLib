{
 "cells": [
  {
   "cell_type": "code",
   "execution_count": 108,
   "id": "977d538f87bd9dd8",
   "metadata": {
    "collapsed": true,
    "ExecuteTime": {
     "end_time": "2024-09-09T09:59:55.808815Z",
     "start_time": "2024-09-09T09:59:55.749674Z"
    }
   },
   "outputs": [],
   "source": [
    "import tensorflow_datasets as tfds\n",
    "\n",
    "\n",
    "import main\n",
    "\n",
    "dataset, info = tfds.load('mnist',split='train[:10%]',with_info=True)"
   ]
  },
  {
   "cell_type": "code",
   "execution_count": 114,
   "outputs": [
    {
     "name": "stdout",
     "output_type": "stream",
     "text": [
      "6000\n"
     ]
    }
   ],
   "source": [
    "import e\n",
    "import importlib\n",
    "import numpy as np\n",
    "importlib.reload(main)\n",
    "#inp, out = e.to_ndarray(dataset)\n",
    "inp = np.reshape([np.array(el['image']) for el in dataset],(-1,28,28,1))\n",
    "    \n",
    "out = np.reshape([np.array(el['label'].numpy()) for el in dataset], (-1, 1))\n",
    "print(len(inp))\n",
    "\n",
    "tsize = 30\n",
    "testi = inp[-30:]\n",
    "testo = out[-30:]\n",
    "inp = inp[:-30]\n",
    "out = out[:-30]"
   ],
   "metadata": {
    "collapsed": false,
    "ExecuteTime": {
     "end_time": "2024-09-09T10:01:19.374214Z",
     "start_time": "2024-09-09T10:01:18.536016Z"
    }
   },
   "id": "3b39e38d1d78e3ce"
  },
  {
   "cell_type": "code",
   "execution_count": 115,
   "outputs": [
    {
     "data": {
      "text/plain": "<module 'layers' from '/Users/sawyer/PycharmProjects/MLLib/layers.py'>"
     },
     "execution_count": 115,
     "metadata": {},
     "output_type": "execute_result"
    }
   ],
   "source": [
    "import layers\n",
    "importlib.reload(layers)"
   ],
   "metadata": {
    "collapsed": false,
    "ExecuteTime": {
     "end_time": "2024-09-09T10:01:19.883299Z",
     "start_time": "2024-09-09T10:01:19.876866Z"
    }
   },
   "id": "612b62521d052432"
  },
  {
   "cell_type": "code",
   "execution_count": 116,
   "outputs": [],
   "source": [
    "l = layers.conv((28,28),padb=True,channels=(1,32))\n",
    "n = l.append(layers.dense(10,activation=main.layer.SOFTMAX))"
   ],
   "metadata": {
    "collapsed": false,
    "ExecuteTime": {
     "end_time": "2024-09-09T10:01:26.233422Z",
     "start_time": "2024-09-09T10:01:26.228308Z"
    }
   },
   "id": "9194a14d70c47f12"
  },
  {
   "cell_type": "code",
   "execution_count": 117,
   "outputs": [],
   "source": [
    "m = main.model(l,cost=main.model.CROSS,learningRate=.05)"
   ],
   "metadata": {
    "collapsed": false,
    "ExecuteTime": {
     "end_time": "2024-09-09T10:01:28.012356Z",
     "start_time": "2024-09-09T10:01:28.006782Z"
    }
   },
   "id": "86e75df771f0b52f"
  },
  {
   "cell_type": "code",
   "execution_count": 118,
   "outputs": [
    {
     "name": "stdout",
     "output_type": "stream",
     "text": [
      "[17912.24937542795, 26328.219341199358, 20783.04854076093, 20423.413849478973, 9537.20727583624, 19204.964624832817, 23880.126469975366, 23358.549780364956, 18604.716568909553, 13870.081763204991, 11831.779239496573, 11416.59680965793, 11113.078460316605, 9844.132613873287, 8409.91952047984, 7594.327146675323, 7188.010260949055, 7161.521911578008, 6920.988632170433, 6465.313564836809, 6264.809016054703, 6168.870380388977, 6059.15069836052, 5968.237224905318, 5917.500193498915, 5911.35031361485, 5828.944349048847, 5755.925193394749, 5700.3948134387065, 5668.880483615818, 5583.392244709999, 5494.950087811091, 5394.663698642567, 5268.781763305196, 5117.57707297233, 4955.061157652954, 4799.6540267658165, 4662.993049766087, 4549.29159243592, 4459.179217068327, 4387.316472091022, 4324.236873382553, 4262.015882033729, 4203.2346627371535, 4153.3021317263665, 4109.911985722407, 4069.881688264896, 4027.519384060742, 3971.852596344046, 3919.371538843697, 3876.0780501968948, 3842.162632700415, 3817.7414637454035, 3799.6494459919104, 3783.1879286683634, 3765.2079618690027, 3744.097254787449, 3720.9059582092486, 3696.4912220791884, 3670.502186155628]\n"
     ]
    }
   ],
   "source": [
    "costs = m.train(inp,out,numIterations=10)\n",
    "print(costs)\n"
   ],
   "metadata": {
    "collapsed": false,
    "ExecuteTime": {
     "end_time": "2024-09-09T10:03:41.747678Z",
     "start_time": "2024-09-09T10:01:31.764088Z"
    }
   },
   "id": "12e3105dbbfc3382"
  },
  {
   "cell_type": "code",
   "execution_count": 119,
   "outputs": [
    {
     "data": {
      "text/plain": "<Figure size 640x480 with 1 Axes>",
      "image/png": "[encoded data removed]"
     },
     "metadata": {},
     "output_type": "display_data"
    },
    {
     "name": "stdout",
     "output_type": "stream",
     "text": [
      "Actual: [5]\n",
      "[(0, 1.3301894620670486e-11), (1, 5.496953241651995e-09), (2, 2.1615898602549596e-18), (3, 0.0005259048863689585), (4, 1.1443174028661054e-10), (5, 0.9994718108320493), (6, 2.759986969965112e-10), (7, 4.87121458547634e-14), (8, 2.2747660025600738e-06), (9, 3.6148451022744484e-09)]\n"
     ]
    },
    {
     "data": {
      "text/plain": "<Figure size 640x480 with 1 Axes>",
      "image/png": "[encoded data removed]"
     },
     "metadata": {},
     "output_type": "display_data"
    },
    {
     "name": "stdout",
     "output_type": "stream",
     "text": [
      "Actual: [2]\n",
      "[(0, 5.019084568359914e-13), (1, 9.613170254556559e-21), (2, 0.9999999997781199), (3, 2.171496538650608e-10), (4, 2.002522575243913e-12), (5, 3.333542800026754e-19), (6, 2.1632008557051875e-12), (7, 6.288737318343856e-14), (8, 1.0351943494440316e-26), (9, 3.1327910062317267e-21)]\n"
     ]
    },
    {
     "data": {
      "text/plain": "<Figure size 640x480 with 1 Axes>",
      "image/png": "[encoded data removed]"
     },
     "metadata": {},
     "output_type": "display_data"
    },
    {
     "name": "stdout",
     "output_type": "stream",
     "text": [
      "Actual: [1]\n",
      "[(0, 3.116852032533587e-16), (1, 0.09040716972956642), (2, 0.9095760343102548), (3, 3.4112864921570373e-06), (4, 1.051816890513294e-13), (5, 4.078371414746057e-23), (6, 7.965464529488178e-14), (7, 2.2617091548107186e-11), (8, 1.338464791304898e-05), (9, 2.9710728549380076e-12)]\n"
     ]
    }
   ],
   "source": [
    "import matplotlib.pyplot as plt\n",
    "import numpy as np\n",
    "pred = m.predict(testi)\n",
    "pred = [[(i, v) for i, v in enumerate(ex)] for ex in pred]\n",
    "s = 4\n",
    "tsize = 3\n",
    "for i in range(s,tsize+s):\n",
    "    image = np.reshape(testi[i],(28,28))\n",
    "    plt.imshow(image,cmap='gray')\n",
    "    plt.axis('off')\n",
    "    plt.show()\n",
    "    print(f'Actual: {testo[i]}')\n",
    "    print(pred[i])"
   ],
   "metadata": {
    "collapsed": false,
    "ExecuteTime": {
     "end_time": "2024-09-09T10:04:57.667823Z",
     "start_time": "2024-09-09T10:04:57.514761Z"
    }
   },
   "id": "10511fc715bbb5b8"
  },
  {
   "cell_type": "code",
   "execution_count": 127,
   "outputs": [
    {
     "data": {
      "text/plain": "\u001B[1mModel: \"sequential_6\"\u001B[0m\n",
      "text/html": "<pre style=\"white-space:pre;overflow-x:auto;line-height:normal;font-family:Menlo,'DejaVu Sans Mono',consolas,'Courier New',monospace\"><span style=\"font-weight: bold\">Model: \"sequential_6\"</span>\n</pre>\n"
     },
     "metadata": {},
     "output_type": "display_data"
    },
    {
     "data": {
      "text/plain": "┏━━━━━━━━━━━━━━━━━━━━━━━━━━━━━━━━━┳━━━━━━━━━━━━━━━━━━━━━━━━┳━━━━━━━━━━━━━━━┓\n┃\u001B[1m \u001B[0m\u001B[1mLayer (type)                   \u001B[0m\u001B[1m \u001B[0m┃\u001B[1m \u001B[0m\u001B[1mOutput Shape          \u001B[0m\u001B[1m \u001B[0m┃\u001B[1m \u001B[0m\u001B[1m      Param #\u001B[0m\u001B[1m \u001B[0m┃\n┡━━━━━━━━━━━━━━━━━━━━━━━━━━━━━━━━━╇━━━━━━━━━━━━━━━━━━━━━━━━╇━━━━━━━━━━━━━━━┩\n│ conv2d_5 (\u001B[38;5;33mConv2D\u001B[0m)               │ (\u001B[38;5;45mNone\u001B[0m, \u001B[38;5;34m28\u001B[0m, \u001B[38;5;34m28\u001B[0m, \u001B[38;5;34m1\u001B[0m)      │            \u001B[38;5;34m10\u001B[0m │\n├─────────────────────────────────┼────────────────────────┼───────────────┤\n│ flatten_5 (\u001B[38;5;33mFlatten\u001B[0m)             │ (\u001B[38;5;45mNone\u001B[0m, \u001B[38;5;34m784\u001B[0m)            │             \u001B[38;5;34m0\u001B[0m │\n├─────────────────────────────────┼────────────────────────┼───────────────┤\n│ dense_5 (\u001B[38;5;33mDense\u001B[0m)                 │ (\u001B[38;5;45mNone\u001B[0m, \u001B[38;5;34m10\u001B[0m)             │         \u001B[38;5;34m7,850\u001B[0m │\n└─────────────────────────────────┴────────────────────────┴───────────────┘\n",
      "text/html": "<pre style=\"white-space:pre;overflow-x:auto;line-height:normal;font-family:Menlo,'DejaVu Sans Mono',consolas,'Courier New',monospace\">┏━━━━━━━━━━━━━━━━━━━━━━━━━━━━━━━━━┳━━━━━━━━━━━━━━━━━━━━━━━━┳━━━━━━━━━━━━━━━┓\n┃<span style=\"font-weight: bold\"> Layer (type)                    </span>┃<span style=\"font-weight: bold\"> Output Shape           </span>┃<span style=\"font-weight: bold\">       Param # </span>┃\n┡━━━━━━━━━━━━━━━━━━━━━━━━━━━━━━━━━╇━━━━━━━━━━━━━━━━━━━━━━━━╇━━━━━━━━━━━━━━━┩\n│ conv2d_5 (<span style=\"color: #0087ff; text-decoration-color: #0087ff\">Conv2D</span>)               │ (<span style=\"color: #00d7ff; text-decoration-color: #00d7ff\">None</span>, <span style=\"color: #00af00; text-decoration-color: #00af00\">28</span>, <span style=\"color: #00af00; text-decoration-color: #00af00\">28</span>, <span style=\"color: #00af00; text-decoration-color: #00af00\">1</span>)      │            <span style=\"color: #00af00; text-decoration-color: #00af00\">10</span> │\n├─────────────────────────────────┼────────────────────────┼───────────────┤\n│ flatten_5 (<span style=\"color: #0087ff; text-decoration-color: #0087ff\">Flatten</span>)             │ (<span style=\"color: #00d7ff; text-decoration-color: #00d7ff\">None</span>, <span style=\"color: #00af00; text-decoration-color: #00af00\">784</span>)            │             <span style=\"color: #00af00; text-decoration-color: #00af00\">0</span> │\n├─────────────────────────────────┼────────────────────────┼───────────────┤\n│ dense_5 (<span style=\"color: #0087ff; text-decoration-color: #0087ff\">Dense</span>)                 │ (<span style=\"color: #00d7ff; text-decoration-color: #00d7ff\">None</span>, <span style=\"color: #00af00; text-decoration-color: #00af00\">10</span>)             │         <span style=\"color: #00af00; text-decoration-color: #00af00\">7,850</span> │\n└─────────────────────────────────┴────────────────────────┴───────────────┘\n</pre>\n"
     },
     "metadata": {},
     "output_type": "display_data"
    },
    {
     "data": {
      "text/plain": "\u001B[1m Total params: \u001B[0m\u001B[38;5;34m7,860\u001B[0m (30.70 KB)\n",
      "text/html": "<pre style=\"white-space:pre;overflow-x:auto;line-height:normal;font-family:Menlo,'DejaVu Sans Mono',consolas,'Courier New',monospace\"><span style=\"font-weight: bold\"> Total params: </span><span style=\"color: #00af00; text-decoration-color: #00af00\">7,860</span> (30.70 KB)\n</pre>\n"
     },
     "metadata": {},
     "output_type": "display_data"
    },
    {
     "data": {
      "text/plain": "\u001B[1m Trainable params: \u001B[0m\u001B[38;5;34m7,860\u001B[0m (30.70 KB)\n",
      "text/html": "<pre style=\"white-space:pre;overflow-x:auto;line-height:normal;font-family:Menlo,'DejaVu Sans Mono',consolas,'Courier New',monospace\"><span style=\"font-weight: bold\"> Trainable params: </span><span style=\"color: #00af00; text-decoration-color: #00af00\">7,860</span> (30.70 KB)\n</pre>\n"
     },
     "metadata": {},
     "output_type": "display_data"
    },
    {
     "data": {
      "text/plain": "\u001B[1m Non-trainable params: \u001B[0m\u001B[38;5;34m0\u001B[0m (0.00 B)\n",
      "text/html": "<pre style=\"white-space:pre;overflow-x:auto;line-height:normal;font-family:Menlo,'DejaVu Sans Mono',consolas,'Courier New',monospace\"><span style=\"font-weight: bold\"> Non-trainable params: </span><span style=\"color: #00af00; text-decoration-color: #00af00\">0</span> (0.00 B)\n</pre>\n"
     },
     "metadata": {},
     "output_type": "display_data"
    },
    {
     "name": "stdout",
     "output_type": "stream",
     "text": [
      "Epoch 1/60\n",
      "\u001B[1m187/187\u001B[0m \u001B[32m━━━━━━━━━━━━━━━━━━━━\u001B[0m\u001B[37m\u001B[0m \u001B[1m1s\u001B[0m 2ms/step - accuracy: 0.5604 - loss: 89.0770\n",
      "Epoch 2/60\n",
      "\u001B[1m187/187\u001B[0m \u001B[32m━━━━━━━━━━━━━━━━━━━━\u001B[0m\u001B[37m\u001B[0m \u001B[1m0s\u001B[0m 1ms/step - accuracy: 0.8356 - loss: 12.8611\n",
      "Epoch 3/60\n",
      "\u001B[1m187/187\u001B[0m \u001B[32m━━━━━━━━━━━━━━━━━━━━\u001B[0m\u001B[37m\u001B[0m \u001B[1m0s\u001B[0m 1ms/step - accuracy: 0.8575 - loss: 7.9364\n",
      "Epoch 4/60\n",
      "\u001B[1m187/187\u001B[0m \u001B[32m━━━━━━━━━━━━━━━━━━━━\u001B[0m\u001B[37m\u001B[0m \u001B[1m0s\u001B[0m 1ms/step - accuracy: 0.8763 - loss: 5.1988\n",
      "Epoch 5/60\n",
      "\u001B[1m187/187\u001B[0m \u001B[32m━━━━━━━━━━━━━━━━━━━━\u001B[0m\u001B[37m\u001B[0m \u001B[1m0s\u001B[0m 1ms/step - accuracy: 0.8752 - loss: 4.0412\n",
      "Epoch 6/60\n",
      "\u001B[1m187/187\u001B[0m \u001B[32m━━━━━━━━━━━━━━━━━━━━\u001B[0m\u001B[37m\u001B[0m \u001B[1m0s\u001B[0m 1ms/step - accuracy: 0.8926 - loss: 2.3322\n",
      "Epoch 7/60\n",
      "\u001B[1m187/187\u001B[0m \u001B[32m━━━━━━━━━━━━━━━━━━━━\u001B[0m\u001B[37m\u001B[0m \u001B[1m0s\u001B[0m 2ms/step - accuracy: 0.8796 - loss: 1.9760\n",
      "Epoch 8/60\n",
      "\u001B[1m187/187\u001B[0m \u001B[32m━━━━━━━━━━━━━━━━━━━━\u001B[0m\u001B[37m\u001B[0m \u001B[1m0s\u001B[0m 1ms/step - accuracy: 0.8939 - loss: 1.3095\n",
      "Epoch 9/60\n",
      "\u001B[1m187/187\u001B[0m \u001B[32m━━━━━━━━━━━━━━━━━━━━\u001B[0m\u001B[37m\u001B[0m \u001B[1m0s\u001B[0m 1ms/step - accuracy: 0.8904 - loss: 0.9825\n",
      "Epoch 10/60\n",
      "\u001B[1m187/187\u001B[0m \u001B[32m━━━━━━━━━━━━━━━━━━━━\u001B[0m\u001B[37m\u001B[0m \u001B[1m0s\u001B[0m 1ms/step - accuracy: 0.9075 - loss: 0.6069\n",
      "Epoch 11/60\n",
      "\u001B[1m187/187\u001B[0m \u001B[32m━━━━━━━━━━━━━━━━━━━━\u001B[0m\u001B[37m\u001B[0m \u001B[1m0s\u001B[0m 2ms/step - accuracy: 0.9096 - loss: 0.4944\n",
      "Epoch 12/60\n",
      "\u001B[1m187/187\u001B[0m \u001B[32m━━━━━━━━━━━━━━━━━━━━\u001B[0m\u001B[37m\u001B[0m \u001B[1m0s\u001B[0m 1ms/step - accuracy: 0.9140 - loss: 0.3581\n",
      "Epoch 13/60\n",
      "\u001B[1m187/187\u001B[0m \u001B[32m━━━━━━━━━━━━━━━━━━━━\u001B[0m\u001B[37m\u001B[0m \u001B[1m0s\u001B[0m 1ms/step - accuracy: 0.9223 - loss: 0.2803\n",
      "Epoch 14/60\n",
      "\u001B[1m187/187\u001B[0m \u001B[32m━━━━━━━━━━━━━━━━━━━━\u001B[0m\u001B[37m\u001B[0m \u001B[1m0s\u001B[0m 1ms/step - accuracy: 0.9375 - loss: 0.2424\n",
      "Epoch 15/60\n",
      "\u001B[1m187/187\u001B[0m \u001B[32m━━━━━━━━━━━━━━━━━━━━\u001B[0m\u001B[37m\u001B[0m \u001B[1m0s\u001B[0m 2ms/step - accuracy: 0.9422 - loss: 0.2189\n",
      "Epoch 16/60\n",
      "\u001B[1m187/187\u001B[0m \u001B[32m━━━━━━━━━━━━━━━━━━━━\u001B[0m\u001B[37m\u001B[0m \u001B[1m0s\u001B[0m 2ms/step - accuracy: 0.9366 - loss: 0.2248\n",
      "Epoch 17/60\n",
      "\u001B[1m187/187\u001B[0m \u001B[32m━━━━━━━━━━━━━━━━━━━━\u001B[0m\u001B[37m\u001B[0m \u001B[1m0s\u001B[0m 1ms/step - accuracy: 0.9426 - loss: 0.2003\n",
      "Epoch 18/60\n",
      "\u001B[1m187/187\u001B[0m \u001B[32m━━━━━━━━━━━━━━━━━━━━\u001B[0m\u001B[37m\u001B[0m \u001B[1m0s\u001B[0m 1ms/step - accuracy: 0.9409 - loss: 0.2002\n",
      "Epoch 19/60\n",
      "\u001B[1m187/187\u001B[0m \u001B[32m━━━━━━━━━━━━━━━━━━━━\u001B[0m\u001B[37m\u001B[0m \u001B[1m0s\u001B[0m 2ms/step - accuracy: 0.9427 - loss: 0.2047\n",
      "Epoch 20/60\n",
      "\u001B[1m187/187\u001B[0m \u001B[32m━━━━━━━━━━━━━━━━━━━━\u001B[0m\u001B[37m\u001B[0m \u001B[1m0s\u001B[0m 2ms/step - accuracy: 0.9378 - loss: 0.2126\n",
      "Epoch 21/60\n",
      "\u001B[1m187/187\u001B[0m \u001B[32m━━━━━━━━━━━━━━━━━━━━\u001B[0m\u001B[37m\u001B[0m \u001B[1m0s\u001B[0m 1ms/step - accuracy: 0.9407 - loss: 0.2140\n",
      "Epoch 22/60\n",
      "\u001B[1m187/187\u001B[0m \u001B[32m━━━━━━━━━━━━━━━━━━━━\u001B[0m\u001B[37m\u001B[0m \u001B[1m0s\u001B[0m 1ms/step - accuracy: 0.9434 - loss: 0.1928\n",
      "Epoch 23/60\n",
      "\u001B[1m187/187\u001B[0m \u001B[32m━━━━━━━━━━━━━━━━━━━━\u001B[0m\u001B[37m\u001B[0m \u001B[1m0s\u001B[0m 1ms/step - accuracy: 0.9389 - loss: 0.2105\n",
      "Epoch 24/60\n",
      "\u001B[1m187/187\u001B[0m \u001B[32m━━━━━━━━━━━━━━━━━━━━\u001B[0m\u001B[37m\u001B[0m \u001B[1m0s\u001B[0m 1ms/step - accuracy: 0.9436 - loss: 0.2038\n",
      "Epoch 25/60\n",
      "\u001B[1m187/187\u001B[0m \u001B[32m━━━━━━━━━━━━━━━━━━━━\u001B[0m\u001B[37m\u001B[0m \u001B[1m0s\u001B[0m 2ms/step - accuracy: 0.9348 - loss: 0.2160\n",
      "Epoch 26/60\n",
      "\u001B[1m187/187\u001B[0m \u001B[32m━━━━━━━━━━━━━━━━━━━━\u001B[0m\u001B[37m\u001B[0m \u001B[1m0s\u001B[0m 2ms/step - accuracy: 0.9418 - loss: 0.1967\n",
      "Epoch 27/60\n",
      "\u001B[1m187/187\u001B[0m \u001B[32m━━━━━━━━━━━━━━━━━━━━\u001B[0m\u001B[37m\u001B[0m \u001B[1m0s\u001B[0m 1ms/step - accuracy: 0.9348 - loss: 0.2120\n",
      "Epoch 28/60\n",
      "\u001B[1m187/187\u001B[0m \u001B[32m━━━━━━━━━━━━━━━━━━━━\u001B[0m\u001B[37m\u001B[0m \u001B[1m0s\u001B[0m 1ms/step - accuracy: 0.9374 - loss: 0.2078\n",
      "Epoch 29/60\n",
      "\u001B[1m187/187\u001B[0m \u001B[32m━━━━━━━━━━━━━━━━━━━━\u001B[0m\u001B[37m\u001B[0m \u001B[1m0s\u001B[0m 1ms/step - accuracy: 0.9400 - loss: 0.2076\n",
      "Epoch 30/60\n",
      "\u001B[1m187/187\u001B[0m \u001B[32m━━━━━━━━━━━━━━━━━━━━\u001B[0m\u001B[37m\u001B[0m \u001B[1m0s\u001B[0m 1ms/step - accuracy: 0.9463 - loss: 0.1855\n",
      "Epoch 31/60\n",
      "\u001B[1m187/187\u001B[0m \u001B[32m━━━━━━━━━━━━━━━━━━━━\u001B[0m\u001B[37m\u001B[0m \u001B[1m0s\u001B[0m 1ms/step - accuracy: 0.9378 - loss: 0.2176\n",
      "Epoch 32/60\n",
      "\u001B[1m187/187\u001B[0m \u001B[32m━━━━━━━━━━━━━━━━━━━━\u001B[0m\u001B[37m\u001B[0m \u001B[1m0s\u001B[0m 1ms/step - accuracy: 0.9466 - loss: 0.1726\n",
      "Epoch 33/60\n",
      "\u001B[1m187/187\u001B[0m \u001B[32m━━━━━━━━━━━━━━━━━━━━\u001B[0m\u001B[37m\u001B[0m \u001B[1m0s\u001B[0m 2ms/step - accuracy: 0.9399 - loss: 0.1985\n",
      "Epoch 34/60\n",
      "\u001B[1m187/187\u001B[0m \u001B[32m━━━━━━━━━━━━━━━━━━━━\u001B[0m\u001B[37m\u001B[0m \u001B[1m0s\u001B[0m 2ms/step - accuracy: 0.9393 - loss: 0.2000\n",
      "Epoch 35/60\n",
      "\u001B[1m187/187\u001B[0m \u001B[32m━━━━━━━━━━━━━━━━━━━━\u001B[0m\u001B[37m\u001B[0m \u001B[1m0s\u001B[0m 1ms/step - accuracy: 0.9461 - loss: 0.1754\n",
      "Epoch 36/60\n",
      "\u001B[1m187/187\u001B[0m \u001B[32m━━━━━━━━━━━━━━━━━━━━\u001B[0m\u001B[37m\u001B[0m \u001B[1m0s\u001B[0m 1ms/step - accuracy: 0.9359 - loss: 0.2072\n",
      "Epoch 37/60\n",
      "\u001B[1m187/187\u001B[0m \u001B[32m━━━━━━━━━━━━━━━━━━━━\u001B[0m\u001B[37m\u001B[0m \u001B[1m0s\u001B[0m 2ms/step - accuracy: 0.9423 - loss: 0.1783\n",
      "Epoch 38/60\n",
      "\u001B[1m187/187\u001B[0m \u001B[32m━━━━━━━━━━━━━━━━━━━━\u001B[0m\u001B[37m\u001B[0m \u001B[1m0s\u001B[0m 2ms/step - accuracy: 0.9367 - loss: 0.1855\n",
      "Epoch 39/60\n",
      "\u001B[1m187/187\u001B[0m \u001B[32m━━━━━━━━━━━━━━━━━━━━\u001B[0m\u001B[37m\u001B[0m \u001B[1m0s\u001B[0m 2ms/step - accuracy: 0.9457 - loss: 0.1711\n",
      "Epoch 40/60\n",
      "\u001B[1m187/187\u001B[0m \u001B[32m━━━━━━━━━━━━━━━━━━━━\u001B[0m\u001B[37m\u001B[0m \u001B[1m0s\u001B[0m 1ms/step - accuracy: 0.9469 - loss: 0.1708\n",
      "Epoch 41/60\n",
      "\u001B[1m187/187\u001B[0m \u001B[32m━━━━━━━━━━━━━━━━━━━━\u001B[0m\u001B[37m\u001B[0m \u001B[1m0s\u001B[0m 1ms/step - accuracy: 0.9542 - loss: 0.1521\n",
      "Epoch 42/60\n",
      "\u001B[1m187/187\u001B[0m \u001B[32m━━━━━━━━━━━━━━━━━━━━\u001B[0m\u001B[37m\u001B[0m \u001B[1m0s\u001B[0m 2ms/step - accuracy: 0.9545 - loss: 0.1446\n",
      "Epoch 43/60\n",
      "\u001B[1m187/187\u001B[0m \u001B[32m━━━━━━━━━━━━━━━━━━━━\u001B[0m\u001B[37m\u001B[0m \u001B[1m0s\u001B[0m 1ms/step - accuracy: 0.9467 - loss: 0.1631\n",
      "Epoch 44/60\n",
      "\u001B[1m187/187\u001B[0m \u001B[32m━━━━━━━━━━━━━━━━━━━━\u001B[0m\u001B[37m\u001B[0m \u001B[1m0s\u001B[0m 1ms/step - accuracy: 0.9474 - loss: 0.1679\n",
      "Epoch 45/60\n",
      "\u001B[1m187/187\u001B[0m \u001B[32m━━━━━━━━━━━━━━━━━━━━\u001B[0m\u001B[37m\u001B[0m \u001B[1m0s\u001B[0m 2ms/step - accuracy: 0.9521 - loss: 0.1596\n",
      "Epoch 46/60\n",
      "\u001B[1m187/187\u001B[0m \u001B[32m━━━━━━━━━━━━━━━━━━━━\u001B[0m\u001B[37m\u001B[0m \u001B[1m0s\u001B[0m 1ms/step - accuracy: 0.9449 - loss: 0.1627\n",
      "Epoch 47/60\n",
      "\u001B[1m187/187\u001B[0m \u001B[32m━━━━━━━━━━━━━━━━━━━━\u001B[0m\u001B[37m\u001B[0m \u001B[1m0s\u001B[0m 1ms/step - accuracy: 0.9551 - loss: 0.1553\n",
      "Epoch 48/60\n",
      "\u001B[1m187/187\u001B[0m \u001B[32m━━━━━━━━━━━━━━━━━━━━\u001B[0m\u001B[37m\u001B[0m \u001B[1m0s\u001B[0m 2ms/step - accuracy: 0.9626 - loss: 0.1294\n",
      "Epoch 49/60\n",
      "\u001B[1m187/187\u001B[0m \u001B[32m━━━━━━━━━━━━━━━━━━━━\u001B[0m\u001B[37m\u001B[0m \u001B[1m0s\u001B[0m 2ms/step - accuracy: 0.9592 - loss: 0.1261\n",
      "Epoch 50/60\n",
      "\u001B[1m187/187\u001B[0m \u001B[32m━━━━━━━━━━━━━━━━━━━━\u001B[0m\u001B[37m\u001B[0m \u001B[1m0s\u001B[0m 2ms/step - accuracy: 0.9659 - loss: 0.1178\n",
      "Epoch 51/60\n",
      "\u001B[1m187/187\u001B[0m \u001B[32m━━━━━━━━━━━━━━━━━━━━\u001B[0m\u001B[37m\u001B[0m \u001B[1m0s\u001B[0m 1ms/step - accuracy: 0.9656 - loss: 0.1149\n",
      "Epoch 52/60\n",
      "\u001B[1m187/187\u001B[0m \u001B[32m━━━━━━━━━━━━━━━━━━━━\u001B[0m\u001B[37m\u001B[0m \u001B[1m0s\u001B[0m 1ms/step - accuracy: 0.9623 - loss: 0.1055\n",
      "Epoch 53/60\n",
      "\u001B[1m187/187\u001B[0m \u001B[32m━━━━━━━━━━━━━━━━━━━━\u001B[0m\u001B[37m\u001B[0m \u001B[1m0s\u001B[0m 2ms/step - accuracy: 0.9674 - loss: 0.0971\n",
      "Epoch 54/60\n",
      "\u001B[1m187/187\u001B[0m \u001B[32m━━━━━━━━━━━━━━━━━━━━\u001B[0m\u001B[37m\u001B[0m \u001B[1m0s\u001B[0m 1ms/step - accuracy: 0.9638 - loss: 0.1130\n",
      "Epoch 55/60\n",
      "\u001B[1m187/187\u001B[0m \u001B[32m━━━━━━━━━━━━━━━━━━━━\u001B[0m\u001B[37m\u001B[0m \u001B[1m0s\u001B[0m 2ms/step - accuracy: 0.9741 - loss: 0.0807\n",
      "Epoch 56/60\n",
      "\u001B[1m187/187\u001B[0m \u001B[32m━━━━━━━━━━━━━━━━━━━━\u001B[0m\u001B[37m\u001B[0m \u001B[1m0s\u001B[0m 2ms/step - accuracy: 0.9795 - loss: 0.0692\n",
      "Epoch 57/60\n",
      "\u001B[1m187/187\u001B[0m \u001B[32m━━━━━━━━━━━━━━━━━━━━\u001B[0m\u001B[37m\u001B[0m \u001B[1m0s\u001B[0m 1ms/step - accuracy: 0.9686 - loss: 0.0864\n",
      "Epoch 58/60\n",
      "\u001B[1m187/187\u001B[0m \u001B[32m━━━━━━━━━━━━━━━━━━━━\u001B[0m\u001B[37m\u001B[0m \u001B[1m0s\u001B[0m 1ms/step - accuracy: 0.9753 - loss: 0.0863\n",
      "Epoch 59/60\n",
      "\u001B[1m187/187\u001B[0m \u001B[32m━━━━━━━━━━━━━━━━━━━━\u001B[0m\u001B[37m\u001B[0m \u001B[1m0s\u001B[0m 2ms/step - accuracy: 0.9776 - loss: 0.0624\n",
      "Epoch 60/60\n",
      "\u001B[1m187/187\u001B[0m \u001B[32m━━━━━━━━━━━━━━━━━━━━\u001B[0m\u001B[37m\u001B[0m \u001B[1m0s\u001B[0m 2ms/step - accuracy: 0.9832 - loss: 0.0527\n"
     ]
    },
    {
     "data": {
      "text/plain": "{'accuracy': [0.7107202410697937,\n  0.8418760299682617,\n  0.864824116230011,\n  0.8725293278694153,\n  0.8721942901611328,\n  0.8834170699119568,\n  0.8822445273399353,\n  0.888107180595398,\n  0.8969849348068237,\n  0.9021775722503662,\n  0.9128978252410889,\n  0.9160804152488708,\n  0.9278057217597961,\n  0.9375209212303162,\n  0.9375209212303162,\n  0.9343383312225342,\n  0.9385259747505188,\n  0.9388609528541565,\n  0.9403685331344604,\n  0.9375209212303162,\n  0.9410385489463806,\n  0.9398660063743591,\n  0.9395309686660767,\n  0.939195990562439,\n  0.936850905418396,\n  0.939195990562439,\n  0.9370184540748596,\n  0.9358459115028381,\n  0.9390285015106201,\n  0.9417085647583008,\n  0.9386934638023376,\n  0.9398660063743591,\n  0.9361808896064758,\n  0.9329982995986938,\n  0.9413735270500183,\n  0.9373534321784973,\n  0.9407035112380981,\n  0.9370184540748596,\n  0.94321608543396,\n  0.940033495426178,\n  0.944053590297699,\n  0.942378580570221,\n  0.94807368516922,\n  0.944891095161438,\n  0.9492462277412415,\n  0.9497487545013428,\n  0.9515913128852844,\n  0.9579564332962036,\n  0.9559463858604431,\n  0.9628140926361084,\n  0.9618090391159058,\n  0.9634841084480286,\n  0.9658291339874268,\n  0.9616415500640869,\n  0.9683417081832886,\n  0.9708542823791504,\n  0.9681742191314697,\n  0.9718592762947083,\n  0.976716935634613,\n  0.983919620513916],\n 'loss': [41.107337951660156,\n  11.444625854492188,\n  7.259142875671387,\n  5.212221145629883,\n  3.818443536758423,\n  2.6168296337127686,\n  1.8137242794036865,\n  1.2956275939941406,\n  0.8996350765228271,\n  0.6205528974533081,\n  0.4589439332485199,\n  0.33895814418792725,\n  0.26342862844467163,\n  0.23345541954040527,\n  0.22589485347270966,\n  0.22197325527668,\n  0.21839822828769684,\n  0.21516992151737213,\n  0.2144128829240799,\n  0.21218398213386536,\n  0.21252155303955078,\n  0.20793317258358002,\n  0.2089342325925827,\n  0.20738978683948517,\n  0.21029433608055115,\n  0.20620869100093842,\n  0.20816674828529358,\n  0.20929867029190063,\n  0.20733456313610077,\n  0.20146088302135468,\n  0.19756124913692474,\n  0.19503769278526306,\n  0.20920389890670776,\n  0.21174751222133636,\n  0.19305051863193512,\n  0.20074735581874847,\n  0.18580162525177002,\n  0.1944950520992279,\n  0.18288785219192505,\n  0.18610383570194244,\n  0.17657370865345,\n  0.17959798872470856,\n  0.16351811587810516,\n  0.16641227900981903,\n  0.16770964860916138,\n  0.15238474309444427,\n  0.14180658757686615,\n  0.13634906709194183,\n  0.132823646068573,\n  0.11813370883464813,\n  0.12167740613222122,\n  0.11065975576639175,\n  0.10488957911729813,\n  0.11248327046632767,\n  0.09481361508369446,\n  0.08694582432508469,\n  0.08945556730031967,\n  0.0811004713177681,\n  0.06753753125667572,\n  0.05026179552078247]}"
     },
     "execution_count": 127,
     "metadata": {},
     "output_type": "execute_result"
    }
   ],
   "source": [
    "import tensorflow as tf\n",
    "from tensorflow.keras import models\n",
    "from tensorflow.keras import layers as l\n",
    "\n",
    "mo = models.Sequential()\n",
    "mo.add(l.Conv2D(filters=1,kernel_size=(3,3),strides=(1,1),padding='same',input_shape=(28,28,1),activation='relu'))\n",
    "mo.add(l.Flatten())\n",
    "mo.add(l.Dense(10,activation='softmax'))\n",
    "mo.compile(optimizer='adam',loss='categorical_crossentropy', metrics=['accuracy'])\n",
    "\n",
    "mo.summary()\n",
    "n = 10\n",
    "ex = np.shape(out)[0]\n",
    "output = np.zeros((ex, n))\n",
    "for i in range(ex):\n",
    "        output[i, out[i][0]] = 1\n",
    "history = mo.fit(inp,output,epochs=60)\n",
    "history.history"
   ],
   "metadata": {
    "collapsed": false,
    "ExecuteTime": {
     "end_time": "2024-09-09T10:19:57.290260Z",
     "start_time": "2024-09-09T10:19:39.112237Z"
    }
   },
   "id": "9e5e36597bc72874"
  },
  {
   "cell_type": "code",
   "execution_count": 122,
   "outputs": [
    {
     "ename": "NameError",
     "evalue": "name 'mo' is not defined",
     "output_type": "error",
     "traceback": [
      "\u001B[0;31m---------------------------------------------------------------------------\u001B[0m",
      "\u001B[0;31mNameError\u001B[0m                                 Traceback (most recent call last)",
      "Cell \u001B[0;32mIn[122], line 1\u001B[0m\n\u001B[0;32m----> 1\u001B[0m history \u001B[38;5;241m=\u001B[39m \u001B[43mmo\u001B[49m\u001B[38;5;241m.\u001B[39mfit(inp,out,epochs\u001B[38;5;241m=\u001B[39m\u001B[38;5;241m10\u001B[39m)\n\u001B[1;32m      2\u001B[0m history\u001B[38;5;241m.\u001B[39mhistory\n",
      "\u001B[0;31mNameError\u001B[0m: name 'mo' is not defined"
     ]
    }
   ],
   "source": [],
   "metadata": {
    "collapsed": false,
    "ExecuteTime": {
     "end_time": "2024-09-09T10:12:22.138490Z",
     "start_time": "2024-09-09T10:12:22.133386Z"
    }
   },
   "id": "5acb75fea928dc30"
  },
  {
   "cell_type": "code",
   "execution_count": null,
   "outputs": [],
   "source": [],
   "metadata": {
    "collapsed": false
   },
   "id": "a82ad1c73c4924b"
  }
 ],
 "metadata": {
  "kernelspec": {
   "display_name": "Python 3",
   "language": "python",
   "name": "python3"
  },
  "language_info": {
   "codemirror_mode": {
    "name": "ipython",
    "version": 2
   },
   "file_extension": ".py",
   "mimetype": "text/x-python",
   "name": "python",
   "nbconvert_exporter": "python",
   "pygments_lexer": "ipython2",
   "version": "2.7.6"
  }
 },
 "nbformat": 4,
 "nbformat_minor": 5
}
